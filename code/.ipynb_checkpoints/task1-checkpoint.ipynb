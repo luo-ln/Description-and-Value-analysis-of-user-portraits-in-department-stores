{
 "cells": [
  {
   "cell_type": "markdown",
   "metadata": {},
   "source": [
    "## 第一部分数据预处理\n",
    "流程如下：\n",
    "####  1. 导入必要的包并读取数据 \n",
    "####  2. 对两个表分别进行预处理，预处理流程如下：\n",
    "##### 对c1表：去除卡号相同的重复值、采用填充法进行缺失值处理、异常值检测\n",
    "#####  对c2表：去除重复值、缺失值检测、异常值处理（如销售金额为负数、购买数量为负数等）\n",
    "#### 3. 合并两个表便于后续处理，连接方式为外连接"
   ]
  },
  {
   "cell_type": "code",
   "execution_count": 1,
   "metadata": {},
   "outputs": [],
   "source": [
    "# -*- coding: utf-8 -*-\n",
    "\"\"\"\n",
    "Created on 2020-07-19\n",
    "\n",
    "@author: 豆奶\n",
    "\"\"\"\n",
    "# 导入必要的包\n",
    "import pandas as pd"
   ]
  },
  {
   "cell_type": "markdown",
   "metadata": {},
   "source": [
    "## 对c1表的预处理"
   ]
  },
  {
   "cell_type": "code",
   "execution_count": 2,
   "metadata": {
    "scrolled": true
   },
   "outputs": [
    {
     "data": {
      "text/html": [
       "<div>\n",
       "<style scoped>\n",
       "    .dataframe tbody tr th:only-of-type {\n",
       "        vertical-align: middle;\n",
       "    }\n",
       "\n",
       "    .dataframe tbody tr th {\n",
       "        vertical-align: top;\n",
       "    }\n",
       "\n",
       "    .dataframe thead th {\n",
       "        text-align: right;\n",
       "    }\n",
       "</style>\n",
       "<table border=\"1\" class=\"dataframe\">\n",
       "  <thead>\n",
       "    <tr style=\"text-align: right;\">\n",
       "      <th></th>\n",
       "      <th>kh</th>\n",
       "      <th>csrq</th>\n",
       "      <th>xb</th>\n",
       "      <th>djsj</th>\n",
       "    </tr>\n",
       "  </thead>\n",
       "  <tbody>\n",
       "    <tr>\n",
       "      <th>0</th>\n",
       "      <td>c68b20b4</td>\n",
       "      <td>2002-11-02 00:00:00</td>\n",
       "      <td>0.0</td>\n",
       "      <td>2013-05-11 00:00:00.000</td>\n",
       "    </tr>\n",
       "    <tr>\n",
       "      <th>1</th>\n",
       "      <td>1ca15332</td>\n",
       "      <td>NaN</td>\n",
       "      <td>0.0</td>\n",
       "      <td>2004-11-04 16:31:52.436</td>\n",
       "    </tr>\n",
       "    <tr>\n",
       "      <th>2</th>\n",
       "      <td>a37cc182</td>\n",
       "      <td>1967-02-17 00:00:00</td>\n",
       "      <td>0.0</td>\n",
       "      <td>2004-12-31 21:24:34.216</td>\n",
       "    </tr>\n",
       "    <tr>\n",
       "      <th>3</th>\n",
       "      <td>2ab88539</td>\n",
       "      <td>1982-06-01 00:00:00</td>\n",
       "      <td>0.0</td>\n",
       "      <td>2010-11-19 00:00:00.000</td>\n",
       "    </tr>\n",
       "    <tr>\n",
       "      <th>4</th>\n",
       "      <td>b4c77269</td>\n",
       "      <td>1964-02-05 00:00:00</td>\n",
       "      <td>0.0</td>\n",
       "      <td>2007-12-14 00:00:00.000</td>\n",
       "    </tr>\n",
       "  </tbody>\n",
       "</table>\n",
       "</div>"
      ],
      "text/plain": [
       "         kh                 csrq   xb                    djsj\n",
       "0  c68b20b4  2002-11-02 00:00:00  0.0 2013-05-11 00:00:00.000\n",
       "1  1ca15332                  NaN  0.0 2004-11-04 16:31:52.436\n",
       "2  a37cc182  1967-02-17 00:00:00  0.0 2004-12-31 21:24:34.216\n",
       "3  2ab88539  1982-06-01 00:00:00  0.0 2010-11-19 00:00:00.000\n",
       "4  b4c77269  1964-02-05 00:00:00  0.0 2007-12-14 00:00:00.000"
      ]
     },
     "execution_count": 2,
     "metadata": {},
     "output_type": "execute_result"
    }
   ],
   "source": [
    "data1 = pd.read_excel(\"../data/cumcm2018c1.xlsx\")\n",
    "data1.head()"
   ]
  },
  {
   "cell_type": "code",
   "execution_count": 3,
   "metadata": {},
   "outputs": [
    {
     "name": "stdout",
     "output_type": "stream",
     "text": [
      "去除重复值前的数据量 (194760, 4)\n",
      "去除重复值后的数据量 (194754, 4)\n"
     ]
    }
   ],
   "source": [
    "# 去除卡号重复值\n",
    "print(\"去除重复值前的数据量\", data1.shape)   \n",
    "data1.drop_duplicates(subset=['kh'],keep='first',inplace=True)\n",
    "print(\"去除重复值后的数据量\", data1.shape)  "
   ]
  },
  {
   "cell_type": "code",
   "execution_count": 4,
   "metadata": {},
   "outputs": [
    {
     "name": "stdout",
     "output_type": "stream",
     "text": [
      "处理前缺失值数目是：\n",
      " kh          0\n",
      "csrq    34187\n",
      "xb       9435\n",
      "djsj    12684\n",
      "dtype: int64\n",
      "处理后缺失值数目是：\n",
      " kh      0\n",
      "csrq    0\n",
      "xb      0\n",
      "djsj    0\n",
      "dtype: int64\n"
     ]
    }
   ],
   "source": [
    "# 缺失值处理\n",
    "print('处理前缺失值数目是：\\n', data1.isnull().sum())  # 可以看到缺失值较多，采取填充法进行缺失值处理\n",
    "data1 = data1.fillna(axis=0,method='ffill')   # 填充法\n",
    "print('处理后缺失值数目是：\\n', data1.isnull().sum())"
   ]
  },
  {
   "cell_type": "markdown",
   "metadata": {},
   "source": [
    "## 对c2表的预处理"
   ]
  },
  {
   "cell_type": "code",
   "execution_count": 6,
   "metadata": {},
   "outputs": [
    {
     "name": "stderr",
     "output_type": "stream",
     "text": [
      "d:\\python3.7.5\\lib\\site-packages\\IPython\\core\\interactiveshell.py:3058: DtypeWarning: Columns (0,11) have mixed types. Specify dtype option on import or set low_memory=False.\n",
      "  interactivity=interactivity, compiler=compiler, result=result)\n"
     ]
    },
    {
     "data": {
      "text/html": [
       "<div>\n",
       "<style scoped>\n",
       "    .dataframe tbody tr th:only-of-type {\n",
       "        vertical-align: middle;\n",
       "    }\n",
       "\n",
       "    .dataframe tbody tr th {\n",
       "        vertical-align: top;\n",
       "    }\n",
       "\n",
       "    .dataframe thead th {\n",
       "        text-align: right;\n",
       "    }\n",
       "</style>\n",
       "<table border=\"1\" class=\"dataframe\">\n",
       "  <thead>\n",
       "    <tr style=\"text-align: right;\">\n",
       "      <th></th>\n",
       "      <th>kh</th>\n",
       "      <th>dtime</th>\n",
       "      <th>spbm</th>\n",
       "      <th>sl</th>\n",
       "      <th>sj</th>\n",
       "      <th>je</th>\n",
       "      <th>spmc</th>\n",
       "      <th>jf</th>\n",
       "      <th>syjh</th>\n",
       "      <th>djh</th>\n",
       "      <th>gzbm</th>\n",
       "      <th>gzmc</th>\n",
       "    </tr>\n",
       "  </thead>\n",
       "  <tbody>\n",
       "    <tr>\n",
       "      <th>0</th>\n",
       "      <td>1be1e3fe</td>\n",
       "      <td>2015-01-01 00:05:41.593</td>\n",
       "      <td>f09c9303</td>\n",
       "      <td>1</td>\n",
       "      <td>290.0</td>\n",
       "      <td>270.20</td>\n",
       "      <td>兰芝化妆品正价瓶</td>\n",
       "      <td>270.20</td>\n",
       "      <td>6</td>\n",
       "      <td>25bb</td>\n",
       "      <td>8077.0</td>\n",
       "      <td>兰芝柜</td>\n",
       "    </tr>\n",
       "    <tr>\n",
       "      <th>1</th>\n",
       "      <td>1be1e3fe</td>\n",
       "      <td>2015-01-01 00:05:41.593</td>\n",
       "      <td>f09c9303</td>\n",
       "      <td>1</td>\n",
       "      <td>325.0</td>\n",
       "      <td>302.80</td>\n",
       "      <td>兰芝化妆品正价瓶</td>\n",
       "      <td>302.80</td>\n",
       "      <td>6</td>\n",
       "      <td>25bb</td>\n",
       "      <td>8077.0</td>\n",
       "      <td>兰芝柜</td>\n",
       "    </tr>\n",
       "    <tr>\n",
       "      <th>2</th>\n",
       "      <td>1be1e3fe</td>\n",
       "      <td>2015-01-01 00:05:41.593</td>\n",
       "      <td>f09c9303</td>\n",
       "      <td>1</td>\n",
       "      <td>195.0</td>\n",
       "      <td>181.80</td>\n",
       "      <td>兰芝化妆品正价瓶</td>\n",
       "      <td>181.80</td>\n",
       "      <td>6</td>\n",
       "      <td>25bb</td>\n",
       "      <td>8077.0</td>\n",
       "      <td>兰芝柜</td>\n",
       "    </tr>\n",
       "    <tr>\n",
       "      <th>3</th>\n",
       "      <td>1be1e3fe</td>\n",
       "      <td>2015-01-01 00:05:41.593</td>\n",
       "      <td>f09c9303</td>\n",
       "      <td>1</td>\n",
       "      <td>270.0</td>\n",
       "      <td>251.55</td>\n",
       "      <td>兰芝化妆品正价瓶</td>\n",
       "      <td>251.55</td>\n",
       "      <td>6</td>\n",
       "      <td>25bb</td>\n",
       "      <td>8077.0</td>\n",
       "      <td>兰芝柜</td>\n",
       "    </tr>\n",
       "    <tr>\n",
       "      <th>4</th>\n",
       "      <td>1be1e3fe</td>\n",
       "      <td>2015-01-01 00:05:41.593</td>\n",
       "      <td>f09c9303</td>\n",
       "      <td>2</td>\n",
       "      <td>245.0</td>\n",
       "      <td>456.55</td>\n",
       "      <td>兰芝化妆品正价瓶</td>\n",
       "      <td>456.55</td>\n",
       "      <td>6</td>\n",
       "      <td>25bb</td>\n",
       "      <td>8077.0</td>\n",
       "      <td>兰芝柜</td>\n",
       "    </tr>\n",
       "  </tbody>\n",
       "</table>\n",
       "</div>"
      ],
      "text/plain": [
       "         kh                    dtime      spbm  sl     sj      je      spmc  \\\n",
       "0  1be1e3fe  2015-01-01 00:05:41.593  f09c9303   1  290.0  270.20  兰芝化妆品正价瓶   \n",
       "1  1be1e3fe  2015-01-01 00:05:41.593  f09c9303   1  325.0  302.80  兰芝化妆品正价瓶   \n",
       "2  1be1e3fe  2015-01-01 00:05:41.593  f09c9303   1  195.0  181.80  兰芝化妆品正价瓶   \n",
       "3  1be1e3fe  2015-01-01 00:05:41.593  f09c9303   1  270.0  251.55  兰芝化妆品正价瓶   \n",
       "4  1be1e3fe  2015-01-01 00:05:41.593  f09c9303   2  245.0  456.55  兰芝化妆品正价瓶   \n",
       "\n",
       "       jf  syjh   djh    gzbm gzmc  \n",
       "0  270.20     6  25bb  8077.0  兰芝柜  \n",
       "1  302.80     6  25bb  8077.0  兰芝柜  \n",
       "2  181.80     6  25bb  8077.0  兰芝柜  \n",
       "3  251.55     6  25bb  8077.0  兰芝柜  \n",
       "4  456.55     6  25bb  8077.0  兰芝柜  "
      ]
     },
     "execution_count": 6,
     "metadata": {},
     "output_type": "execute_result"
    }
   ],
   "source": [
    "data2 = pd.read_csv(\"../data/cumcm2018c2.csv\")\n",
    "data2.head()"
   ]
  },
  {
   "cell_type": "code",
   "execution_count": 7,
   "metadata": {},
   "outputs": [
    {
     "name": "stdout",
     "output_type": "stream",
     "text": [
      "去除重复值前的数据量 (1893532, 12)\n",
      "去除重复值后的数据量 (1893532, 12)\n"
     ]
    }
   ],
   "source": [
    "# 去除重复值\n",
    "print(\"去除重复值前的数据量\", data2.shape)  \n",
    "data2.drop_duplicates(subset=None,keep='first',inplace=True)\n",
    "print(\"去除重复值后的数据量\", data2.shape)  "
   ]
  },
  {
   "cell_type": "code",
   "execution_count": 9,
   "metadata": {},
   "outputs": [
    {
     "name": "stdout",
     "output_type": "stream",
     "text": [
      "处理前缺失值数目是：\n",
      " kh       1017486\n",
      "dtime          0\n",
      "spbm           0\n",
      "sl             0\n",
      "sj             0\n",
      "je             0\n",
      "spmc           0\n",
      "jf       1017486\n",
      "syjh           0\n",
      "djh            0\n",
      "gzbm     1017486\n",
      "gzmc     1036956\n",
      "dtype: int64\n"
     ]
    }
   ],
   "source": [
    "# 缺失值检测\n",
    "print('处理前缺失值数目是：\\n', data2.isnull().sum())  \n",
    "# 可以看到缺失值部分为：会员卡号，积分，柜组编码，柜组名，因此不需要进行填充"
   ]
  },
  {
   "cell_type": "code",
   "execution_count": 10,
   "metadata": {},
   "outputs": [
    {
     "name": "stdout",
     "output_type": "stream",
     "text": [
      "sl        -381.0\n",
      "sj           0.1\n",
      "je     -671257.5\n",
      "jf     -201616.0\n",
      "syjh         1.0\n",
      "gzbm         0.0\n",
      "dtype: float64 \n",
      "\n",
      "sl         1492.0\n",
      "sj      1342515.0\n",
      "je      1342515.0\n",
      "jf       268503.0\n",
      "syjh        320.0\n",
      "gzbm       9005.0\n",
      "dtype: float64\n"
     ]
    }
   ],
   "source": [
    "# 异常值检测\n",
    "print(data2.min(), '\\n')\n",
    "print(data2.max())"
   ]
  },
  {
   "cell_type": "code",
   "execution_count": 11,
   "metadata": {},
   "outputs": [
    {
     "name": "stdout",
     "output_type": "stream",
     "text": [
      "去除异常值前的数据量 (1893532, 12)\n",
      "去除异常值后的数据量 (1823181, 12)\n",
      "sl      1.0\n",
      "sj      1.0\n",
      "je      0.0\n",
      "jf      0.0\n",
      "syjh    1.0\n",
      "gzbm    0.0\n",
      "dtype: float64 \n",
      "\n",
      "sl        200.0\n",
      "sj       5000.0\n",
      "je       5000.0\n",
      "jf      14250.0\n",
      "syjh      320.0\n",
      "gzbm     9005.0\n",
      "dtype: float64\n"
     ]
    }
   ],
   "source": [
    "# 异常值处理，对于异常值的阈值，可与商场负责人进行确认，这里暂时凭个人感觉进行确定\n",
    "print(\"去除异常值前的数据量\", data2.shape)  \n",
    "\n",
    "data2 = data2.drop(data2[(data2.je< 0)].index)  # 去除销售金额为负数的数据\n",
    "data2 = data2.drop(data2[(data2.je>5000)].index) # 去除销售金额过大的数据，这里暂时定为5000，具体可与商场进行商讨\n",
    "\n",
    "data2 = data2.drop(data2[(data2.sj< 0.5)].index)  # 去除售价为负数的数据\n",
    "data2 = data2.drop(data2[(data2.sj>5000)].index) # 去除售价过大的数据，这里暂时定为5000\n",
    "\n",
    "data2 = data2.drop(data2[(data2.sl< 0)].index)  # 去除购买数量为负数的数据\n",
    "data2 = data2.drop(data2[(data2.sl> 1000)].index)  # 去除购买数量过大的数据\n",
    "\n",
    "data2 = data2.drop(data2[(data2.jf< 0)].index)  # 去除积分为负数的数据\n",
    "\n",
    "# 处理后的结果查看\n",
    "print(\"去除异常值后的数据量\", data2.shape)  \n",
    "print(data2.min(), '\\n')\n",
    "print(data2.max())"
   ]
  },
  {
   "cell_type": "markdown",
   "metadata": {},
   "source": [
    "## 合并两张表"
   ]
  },
  {
   "cell_type": "code",
   "execution_count": 16,
   "metadata": {},
   "outputs": [],
   "source": [
    "result = pd.merge(data1, data2, on='kh', how=\"outer\")"
   ]
  },
  {
   "cell_type": "code",
   "execution_count": 17,
   "metadata": {},
   "outputs": [
    {
     "name": "stdout",
     "output_type": "stream",
     "text": [
      "(1971886, 15)\n"
     ]
    },
    {
     "data": {
      "text/html": [
       "<div>\n",
       "<style scoped>\n",
       "    .dataframe tbody tr th:only-of-type {\n",
       "        vertical-align: middle;\n",
       "    }\n",
       "\n",
       "    .dataframe tbody tr th {\n",
       "        vertical-align: top;\n",
       "    }\n",
       "\n",
       "    .dataframe thead th {\n",
       "        text-align: right;\n",
       "    }\n",
       "</style>\n",
       "<table border=\"1\" class=\"dataframe\">\n",
       "  <thead>\n",
       "    <tr style=\"text-align: right;\">\n",
       "      <th></th>\n",
       "      <th>kh</th>\n",
       "      <th>csrq</th>\n",
       "      <th>xb</th>\n",
       "      <th>djsj</th>\n",
       "      <th>dtime</th>\n",
       "      <th>spbm</th>\n",
       "      <th>sl</th>\n",
       "      <th>sj</th>\n",
       "      <th>je</th>\n",
       "      <th>spmc</th>\n",
       "      <th>jf</th>\n",
       "      <th>syjh</th>\n",
       "      <th>djh</th>\n",
       "      <th>gzbm</th>\n",
       "      <th>gzmc</th>\n",
       "    </tr>\n",
       "  </thead>\n",
       "  <tbody>\n",
       "    <tr>\n",
       "      <th>0</th>\n",
       "      <td>c68b20b4</td>\n",
       "      <td>2002-11-02 00:00:00</td>\n",
       "      <td>0.0</td>\n",
       "      <td>2013-05-11 00:00:00.000</td>\n",
       "      <td>NaN</td>\n",
       "      <td>NaN</td>\n",
       "      <td>NaN</td>\n",
       "      <td>NaN</td>\n",
       "      <td>NaN</td>\n",
       "      <td>NaN</td>\n",
       "      <td>NaN</td>\n",
       "      <td>NaN</td>\n",
       "      <td>NaN</td>\n",
       "      <td>NaN</td>\n",
       "      <td>NaN</td>\n",
       "    </tr>\n",
       "    <tr>\n",
       "      <th>1</th>\n",
       "      <td>1ca15332</td>\n",
       "      <td>2002-11-02 00:00:00</td>\n",
       "      <td>0.0</td>\n",
       "      <td>2004-11-04 16:31:52.436</td>\n",
       "      <td>NaN</td>\n",
       "      <td>NaN</td>\n",
       "      <td>NaN</td>\n",
       "      <td>NaN</td>\n",
       "      <td>NaN</td>\n",
       "      <td>NaN</td>\n",
       "      <td>NaN</td>\n",
       "      <td>NaN</td>\n",
       "      <td>NaN</td>\n",
       "      <td>NaN</td>\n",
       "      <td>NaN</td>\n",
       "    </tr>\n",
       "    <tr>\n",
       "      <th>2</th>\n",
       "      <td>a37cc182</td>\n",
       "      <td>1967-02-17 00:00:00</td>\n",
       "      <td>0.0</td>\n",
       "      <td>2004-12-31 21:24:34.216</td>\n",
       "      <td>2016-09-25 10:49:14.016</td>\n",
       "      <td>d62a69e3</td>\n",
       "      <td>1.0</td>\n",
       "      <td>499.0</td>\n",
       "      <td>297.07</td>\n",
       "      <td>WMF D无</td>\n",
       "      <td>297.08</td>\n",
       "      <td>101.0</td>\n",
       "      <td>7cd8</td>\n",
       "      <td>7296.0</td>\n",
       "      <td>WMF 柜</td>\n",
       "    </tr>\n",
       "    <tr>\n",
       "      <th>3</th>\n",
       "      <td>a37cc182</td>\n",
       "      <td>1967-02-17 00:00:00</td>\n",
       "      <td>0.0</td>\n",
       "      <td>2004-12-31 21:24:34.216</td>\n",
       "      <td>2017-02-28 17:17:35.533</td>\n",
       "      <td>252403ef</td>\n",
       "      <td>1.0</td>\n",
       "      <td>598.0</td>\n",
       "      <td>598.00</td>\n",
       "      <td>双立人商品 F无</td>\n",
       "      <td>598.00</td>\n",
       "      <td>102.0</td>\n",
       "      <td>ed0a</td>\n",
       "      <td>7242.0</td>\n",
       "      <td>双立人柜</td>\n",
       "    </tr>\n",
       "    <tr>\n",
       "      <th>4</th>\n",
       "      <td>2ab88539</td>\n",
       "      <td>1982-06-01 00:00:00</td>\n",
       "      <td>0.0</td>\n",
       "      <td>2010-11-19 00:00:00.000</td>\n",
       "      <td>NaN</td>\n",
       "      <td>NaN</td>\n",
       "      <td>NaN</td>\n",
       "      <td>NaN</td>\n",
       "      <td>NaN</td>\n",
       "      <td>NaN</td>\n",
       "      <td>NaN</td>\n",
       "      <td>NaN</td>\n",
       "      <td>NaN</td>\n",
       "      <td>NaN</td>\n",
       "      <td>NaN</td>\n",
       "    </tr>\n",
       "  </tbody>\n",
       "</table>\n",
       "</div>"
      ],
      "text/plain": [
       "         kh                 csrq   xb                    djsj  \\\n",
       "0  c68b20b4  2002-11-02 00:00:00  0.0 2013-05-11 00:00:00.000   \n",
       "1  1ca15332  2002-11-02 00:00:00  0.0 2004-11-04 16:31:52.436   \n",
       "2  a37cc182  1967-02-17 00:00:00  0.0 2004-12-31 21:24:34.216   \n",
       "3  a37cc182  1967-02-17 00:00:00  0.0 2004-12-31 21:24:34.216   \n",
       "4  2ab88539  1982-06-01 00:00:00  0.0 2010-11-19 00:00:00.000   \n",
       "\n",
       "                     dtime      spbm   sl     sj      je      spmc      jf  \\\n",
       "0                      NaN       NaN  NaN    NaN     NaN       NaN     NaN   \n",
       "1                      NaN       NaN  NaN    NaN     NaN       NaN     NaN   \n",
       "2  2016-09-25 10:49:14.016  d62a69e3  1.0  499.0  297.07    WMF D无  297.08   \n",
       "3  2017-02-28 17:17:35.533  252403ef  1.0  598.0  598.00  双立人商品 F无  598.00   \n",
       "4                      NaN       NaN  NaN    NaN     NaN       NaN     NaN   \n",
       "\n",
       "    syjh   djh    gzbm   gzmc  \n",
       "0    NaN   NaN     NaN    NaN  \n",
       "1    NaN   NaN     NaN    NaN  \n",
       "2  101.0  7cd8  7296.0  WMF 柜  \n",
       "3  102.0  ed0a  7242.0   双立人柜  \n",
       "4    NaN   NaN     NaN    NaN  "
      ]
     },
     "execution_count": 17,
     "metadata": {},
     "output_type": "execute_result"
    }
   ],
   "source": [
    "print(result.shape) \n",
    "result.head()"
   ]
  },
  {
   "cell_type": "code",
   "execution_count": 18,
   "metadata": {},
   "outputs": [],
   "source": [
    "result.to_csv('../data/task1.csv',  encoding='utf-8')"
   ]
  },
  {
   "cell_type": "code",
   "execution_count": null,
   "metadata": {},
   "outputs": [],
   "source": []
  },
  {
   "cell_type": "code",
   "execution_count": null,
   "metadata": {},
   "outputs": [],
   "source": []
  }
 ],
 "metadata": {
  "kernelspec": {
   "display_name": "Python 3",
   "language": "python",
   "name": "python3"
  },
  "language_info": {
   "codemirror_mode": {
    "name": "ipython",
    "version": 3
   },
   "file_extension": ".py",
   "mimetype": "text/x-python",
   "name": "python",
   "nbconvert_exporter": "python",
   "pygments_lexer": "ipython3",
   "version": "3.7.5"
  }
 },
 "nbformat": 4,
 "nbformat_minor": 2
}
