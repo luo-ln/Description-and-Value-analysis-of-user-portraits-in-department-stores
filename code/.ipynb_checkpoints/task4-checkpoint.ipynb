{
 "cells": [
  {
   "cell_type": "markdown",
   "metadata": {},
   "source": [
    "## 第四部分：会员用户细分模型和营销方案制定\n",
    "流程如下\n",
    "####  1：利用RFM模型对会员用户进行精细划分并分析不同群体带来的价值差异\n",
    "####  2：针对不同的类型的群体制定相应的营销方案(如优惠券赠送、一元购、打折促销、捆绑销售等)\n",
    "\n",
    "RFM模型具体指的是模型中特征：R(最近一次消费Recency)、F(消费频率Frequency)、M(消费金额Monetary)"
   ]
  },
  {
   "cell_type": "code",
   "execution_count": 1,
   "metadata": {},
   "outputs": [],
   "source": [
    "# -*- coding: utf-8 -*-\n",
    "\"\"\"\n",
    "Created on 2020-07-19\n",
    "\n",
    "@author: 豆奶\n",
    "\"\"\"\n",
    "\n",
    "import pandas as pd\n",
    "import datetime\n",
    "import numpy as np\n",
    "import matplotlib.pyplot as plt\n",
    "\n",
    "plt.rcParams['font.sans-serif'] = ['SimHei']"
   ]
  },
  {
   "cell_type": "code",
   "execution_count": 2,
   "metadata": {},
   "outputs": [
    {
     "name": "stderr",
     "output_type": "stream",
     "text": [
      "d:\\python3.7.5\\lib\\site-packages\\IPython\\core\\interactiveshell.py:3058: DtypeWarning: Columns (1,2,4,15) have mixed types. Specify dtype option on import or set low_memory=False.\n",
      "  interactivity=interactivity, compiler=compiler, result=result)\n"
     ]
    },
    {
     "name": "stdout",
     "output_type": "stream",
     "text": [
      "(1971886, 4)\n",
      "处理前缺失值数目是：\n",
      " kh        986811\n",
      "djsj     1341367\n",
      "je        148705\n",
      "dtime     148705\n",
      "dtype: int64\n"
     ]
    },
    {
     "name": "stderr",
     "output_type": "stream",
     "text": [
      "d:\\python3.7.5\\lib\\site-packages\\ipykernel_launcher.py:6: SettingWithCopyWarning: \n",
      "A value is trying to be set on a copy of a slice from a DataFrame\n",
      "\n",
      "See the caveats in the documentation: http://pandas.pydata.org/pandas-docs/stable/user_guide/indexing.html#returning-a-view-versus-a-copy\n",
      "  \n"
     ]
    },
    {
     "name": "stdout",
     "output_type": "stream",
     "text": [
      "\n",
      "处理后缺失值数目是：\n",
      " kh       0\n",
      "djsj     0\n",
      "je       0\n",
      "dtime    0\n",
      "dtype: int64\n",
      "(481814, 4)\n"
     ]
    },
    {
     "name": "stderr",
     "output_type": "stream",
     "text": [
      "d:\\python3.7.5\\lib\\site-packages\\pandas\\core\\indexing.py:494: SettingWithCopyWarning: \n",
      "A value is trying to be set on a copy of a slice from a DataFrame.\n",
      "Try using .loc[row_indexer,col_indexer] = value instead\n",
      "\n",
      "See the caveats in the documentation: http://pandas.pydata.org/pandas-docs/stable/user_guide/indexing.html#returning-a-view-versus-a-copy\n",
      "  self.obj[item] = s\n"
     ]
    }
   ],
   "source": [
    "data_task1 = pd.read_csv(r\"../data/task1.csv\")\n",
    "member = data_task1[['kh', 'djsj', 'je', 'dtime']]\n",
    "\n",
    "print(member.shape)\n",
    "print('处理前缺失值数目是：\\n', member.isnull().sum())\n",
    "member.dropna(inplace=True)\n",
    "print('\\n处理后缺失值数目是：\\n', member.isnull().sum())\n",
    "print(member.shape)\n",
    "\n",
    "member.loc[:,'dtime'] = pd.to_datetime(member.loc[:,'dtime'],infer_datetime_format=True) # 将年份转为datatime格式 \n",
    "member.loc[:,'djsj'] = pd.to_datetime(member.loc[:,'djsj'],infer_datetime_format=True) # 将年份转为datatime格式 "
   ]
  },
  {
   "cell_type": "code",
   "execution_count": 3,
   "metadata": {},
   "outputs": [
    {
     "name": "stdout",
     "output_type": "stream",
     "text": [
      "(193254, 4)\n"
     ]
    },
    {
     "data": {
      "text/html": [
       "<div>\n",
       "<style scoped>\n",
       "    .dataframe tbody tr th:only-of-type {\n",
       "        vertical-align: middle;\n",
       "    }\n",
       "\n",
       "    .dataframe tbody tr th {\n",
       "        vertical-align: top;\n",
       "    }\n",
       "\n",
       "    .dataframe thead th {\n",
       "        text-align: right;\n",
       "    }\n",
       "</style>\n",
       "<table border=\"1\" class=\"dataframe\">\n",
       "  <thead>\n",
       "    <tr style=\"text-align: right;\">\n",
       "      <th></th>\n",
       "      <th>dtime</th>\n",
       "      <th>djsj</th>\n",
       "      <th>kh</th>\n",
       "      <th>je</th>\n",
       "    </tr>\n",
       "  </thead>\n",
       "  <tbody>\n",
       "    <tr>\n",
       "      <th>0</th>\n",
       "      <td>2017-02-28 17:17:35.533</td>\n",
       "      <td>2004-12-31 21:24:34.216</td>\n",
       "      <td>a37cc182</td>\n",
       "      <td>598.0</td>\n",
       "    </tr>\n",
       "    <tr>\n",
       "      <th>1</th>\n",
       "      <td>2017-11-13 13:36:45.656</td>\n",
       "      <td>2007-04-19 00:00:00.000</td>\n",
       "      <td>34c2dc93</td>\n",
       "      <td>260.0</td>\n",
       "    </tr>\n",
       "    <tr>\n",
       "      <th>2</th>\n",
       "      <td>2017-05-17 11:30:39.080</td>\n",
       "      <td>2004-09-24 16:39:08.716</td>\n",
       "      <td>828aa9b4</td>\n",
       "      <td>1288.0</td>\n",
       "    </tr>\n",
       "    <tr>\n",
       "      <th>3</th>\n",
       "      <td>2017-07-29 18:32:24.720</td>\n",
       "      <td>2004-09-24 16:39:08.716</td>\n",
       "      <td>828aa9b4</td>\n",
       "      <td>1378.0</td>\n",
       "    </tr>\n",
       "    <tr>\n",
       "      <th>4</th>\n",
       "      <td>2017-07-29 18:36:06.720</td>\n",
       "      <td>2004-09-24 16:39:08.716</td>\n",
       "      <td>828aa9b4</td>\n",
       "      <td>823.0</td>\n",
       "    </tr>\n",
       "  </tbody>\n",
       "</table>\n",
       "</div>"
      ],
      "text/plain": [
       "                    dtime                    djsj        kh      je\n",
       "0 2017-02-28 17:17:35.533 2004-12-31 21:24:34.216  a37cc182   598.0\n",
       "1 2017-11-13 13:36:45.656 2007-04-19 00:00:00.000  34c2dc93   260.0\n",
       "2 2017-05-17 11:30:39.080 2004-09-24 16:39:08.716  828aa9b4  1288.0\n",
       "3 2017-07-29 18:32:24.720 2004-09-24 16:39:08.716  828aa9b4  1378.0\n",
       "4 2017-07-29 18:36:06.720 2004-09-24 16:39:08.716  828aa9b4   823.0"
      ]
     },
     "execution_count": 3,
     "metadata": {},
     "output_type": "execute_result"
    }
   ],
   "source": [
    "# 筛选出2017年的数据并进行部分预处理\n",
    "df = member.set_index('djsj') # 将djsj设置为index，晒掉入会时长大于10或小于0的异常数据\n",
    "df = df[:'2017']\n",
    "df = df.reset_index()     # 重设索引\n",
    "df = df.set_index('dtime') # 将dtime设置为index，选出最近一年的消费数据，即2017年的数据\n",
    "df = df['2017']  \n",
    "df = df.drop(df[(df.je<1)].index)   # 将消费金额为负数或金额过大的数据删除\n",
    "df = df.drop(df[(df.je>3e3)].index)   \n",
    "df = df.reset_index()    # 重设索引  \n",
    "print(df.shape)\n",
    "df.head()"
   ]
  },
  {
   "cell_type": "code",
   "execution_count": 4,
   "metadata": {},
   "outputs": [
    {
     "name": "stdout",
     "output_type": "stream",
     "text": [
      "(26395, 4) (481814, 4)\n"
     ]
    },
    {
     "data": {
      "text/html": [
       "<div>\n",
       "<style scoped>\n",
       "    .dataframe tbody tr th:only-of-type {\n",
       "        vertical-align: middle;\n",
       "    }\n",
       "\n",
       "    .dataframe tbody tr th {\n",
       "        vertical-align: top;\n",
       "    }\n",
       "\n",
       "    .dataframe thead th {\n",
       "        text-align: right;\n",
       "    }\n",
       "</style>\n",
       "<table border=\"1\" class=\"dataframe\">\n",
       "  <thead>\n",
       "    <tr style=\"text-align: right;\">\n",
       "      <th></th>\n",
       "      <th>kh</th>\n",
       "      <th>je</th>\n",
       "      <th>dtime</th>\n",
       "      <th>djsj</th>\n",
       "    </tr>\n",
       "  </thead>\n",
       "  <tbody>\n",
       "    <tr>\n",
       "      <th>0</th>\n",
       "      <td>000186fa</td>\n",
       "      <td>4176.0</td>\n",
       "      <td>[2017-09-24T12:47:35.986000000]</td>\n",
       "      <td>[2016-01-16T00:00:00.000000000]</td>\n",
       "    </tr>\n",
       "    <tr>\n",
       "      <th>1</th>\n",
       "      <td>000234ad</td>\n",
       "      <td>398.0</td>\n",
       "      <td>[2017-11-01T16:43:04.126000000]</td>\n",
       "      <td>[2009-03-19T00:00:00.000000000]</td>\n",
       "    </tr>\n",
       "    <tr>\n",
       "      <th>2</th>\n",
       "      <td>000339f1</td>\n",
       "      <td>854.0</td>\n",
       "      <td>[2017-12-16T15:12:18.610000000, 2017-12-16T16:...</td>\n",
       "      <td>[2013-09-17T00:00:00.000000000]</td>\n",
       "    </tr>\n",
       "    <tr>\n",
       "      <th>3</th>\n",
       "      <td>000539ab</td>\n",
       "      <td>236.0</td>\n",
       "      <td>[2017-11-01T10:46:34.670000000]</td>\n",
       "      <td>[2016-07-05T13:17:19.800000000]</td>\n",
       "    </tr>\n",
       "    <tr>\n",
       "      <th>4</th>\n",
       "      <td>00065bc9</td>\n",
       "      <td>2380.0</td>\n",
       "      <td>[2017-01-07T15:24:24.093000000, 2017-10-19T14:...</td>\n",
       "      <td>[2016-07-10T16:15:02.596000000]</td>\n",
       "    </tr>\n",
       "  </tbody>\n",
       "</table>\n",
       "</div>"
      ],
      "text/plain": [
       "         kh      je                                              dtime  \\\n",
       "0  000186fa  4176.0                    [2017-09-24T12:47:35.986000000]   \n",
       "1  000234ad   398.0                    [2017-11-01T16:43:04.126000000]   \n",
       "2  000339f1   854.0  [2017-12-16T15:12:18.610000000, 2017-12-16T16:...   \n",
       "3  000539ab   236.0                    [2017-11-01T10:46:34.670000000]   \n",
       "4  00065bc9  2380.0  [2017-01-07T15:24:24.093000000, 2017-10-19T14:...   \n",
       "\n",
       "                              djsj  \n",
       "0  [2016-01-16T00:00:00.000000000]  \n",
       "1  [2009-03-19T00:00:00.000000000]  \n",
       "2  [2013-09-17T00:00:00.000000000]  \n",
       "3  [2016-07-05T13:17:19.800000000]  \n",
       "4  [2016-07-10T16:15:02.596000000]  "
      ]
     },
     "execution_count": 4,
     "metadata": {},
     "output_type": "execute_result"
    }
   ],
   "source": [
    "data = df.groupby([\"kh\"], as_index=False).agg({'je':'sum', 'dtime':'unique', 'djsj':'unique'})\n",
    "print(data.shape, member.shape)\n",
    "data.head()"
   ]
  },
  {
   "cell_type": "code",
   "execution_count": 5,
   "metadata": {
    "scrolled": true
   },
   "outputs": [
    {
     "data": {
      "text/html": [
       "<div>\n",
       "<style scoped>\n",
       "    .dataframe tbody tr th:only-of-type {\n",
       "        vertical-align: middle;\n",
       "    }\n",
       "\n",
       "    .dataframe tbody tr th {\n",
       "        vertical-align: top;\n",
       "    }\n",
       "\n",
       "    .dataframe thead th {\n",
       "        text-align: right;\n",
       "    }\n",
       "</style>\n",
       "<table border=\"1\" class=\"dataframe\">\n",
       "  <thead>\n",
       "    <tr style=\"text-align: right;\">\n",
       "      <th></th>\n",
       "      <th>kh</th>\n",
       "      <th>je</th>\n",
       "      <th>dtime</th>\n",
       "      <th>djsj</th>\n",
       "      <th>xfcs</th>\n",
       "      <th>Recency_d</th>\n",
       "    </tr>\n",
       "  </thead>\n",
       "  <tbody>\n",
       "    <tr>\n",
       "      <th>0</th>\n",
       "      <td>000186fa</td>\n",
       "      <td>4176.0</td>\n",
       "      <td>1</td>\n",
       "      <td>2016-01-16 00:00:00.000</td>\n",
       "      <td>1</td>\n",
       "      <td>2017-09-24 12:47:35.986</td>\n",
       "    </tr>\n",
       "    <tr>\n",
       "      <th>1</th>\n",
       "      <td>000234ad</td>\n",
       "      <td>398.0</td>\n",
       "      <td>1</td>\n",
       "      <td>2009-03-19 00:00:00.000</td>\n",
       "      <td>1</td>\n",
       "      <td>2017-11-01 16:43:04.126</td>\n",
       "    </tr>\n",
       "    <tr>\n",
       "      <th>2</th>\n",
       "      <td>000339f1</td>\n",
       "      <td>854.0</td>\n",
       "      <td>2</td>\n",
       "      <td>2013-09-17 00:00:00.000</td>\n",
       "      <td>2</td>\n",
       "      <td>2017-12-16 16:02:36.610</td>\n",
       "    </tr>\n",
       "    <tr>\n",
       "      <th>3</th>\n",
       "      <td>000539ab</td>\n",
       "      <td>236.0</td>\n",
       "      <td>1</td>\n",
       "      <td>2016-07-05 13:17:19.800</td>\n",
       "      <td>1</td>\n",
       "      <td>2017-11-01 10:46:34.670</td>\n",
       "    </tr>\n",
       "    <tr>\n",
       "      <th>4</th>\n",
       "      <td>00065bc9</td>\n",
       "      <td>2380.0</td>\n",
       "      <td>2</td>\n",
       "      <td>2016-07-10 16:15:02.596</td>\n",
       "      <td>2</td>\n",
       "      <td>2017-10-19 14:32:31.236</td>\n",
       "    </tr>\n",
       "  </tbody>\n",
       "</table>\n",
       "</div>"
      ],
      "text/plain": [
       "         kh      je  dtime                    djsj  xfcs  \\\n",
       "0  000186fa  4176.0      1 2016-01-16 00:00:00.000     1   \n",
       "1  000234ad   398.0      1 2009-03-19 00:00:00.000     1   \n",
       "2  000339f1   854.0      2 2013-09-17 00:00:00.000     2   \n",
       "3  000539ab   236.0      1 2016-07-05 13:17:19.800     1   \n",
       "4  00065bc9  2380.0      2 2016-07-10 16:15:02.596     2   \n",
       "\n",
       "                Recency_d  \n",
       "0 2017-09-24 12:47:35.986  \n",
       "1 2017-11-01 16:43:04.126  \n",
       "2 2017-12-16 16:02:36.610  \n",
       "3 2017-11-01 10:46:34.670  \n",
       "4 2017-10-19 14:32:31.236  "
      ]
     },
     "execution_count": 5,
     "metadata": {},
     "output_type": "execute_result"
    }
   ],
   "source": [
    "data['xfcs'] = data.apply(lambda x:x['dtime'].shape[0], axis=1)       # 消费次数\n",
    "data['Recency_d'] = data.apply(lambda x:x['dtime'][-1], axis=1)       # 最近一次消费时间\n",
    "data['djsj'] = data.apply(lambda x:x['djsj'][0], axis=1)              # 入会时长\n",
    "data = data.drop(data[(data.xfcs>365)].index)                          # 去除消费次数超过365次的数据\n",
    "data['dtime'] = data.apply(lambda x:x['dtime'].shape[0], axis=1)             # 消费频率(次/月)\n",
    "data.head()    "
   ]
  },
  {
   "cell_type": "code",
   "execution_count": 7,
   "metadata": {},
   "outputs": [
    {
     "data": {
      "text/html": [
       "<div>\n",
       "<style scoped>\n",
       "    .dataframe tbody tr th:only-of-type {\n",
       "        vertical-align: middle;\n",
       "    }\n",
       "\n",
       "    .dataframe tbody tr th {\n",
       "        vertical-align: top;\n",
       "    }\n",
       "\n",
       "    .dataframe thead th {\n",
       "        text-align: right;\n",
       "    }\n",
       "</style>\n",
       "<table border=\"1\" class=\"dataframe\">\n",
       "  <thead>\n",
       "    <tr style=\"text-align: right;\">\n",
       "      <th></th>\n",
       "      <th>kh</th>\n",
       "      <th>je</th>\n",
       "      <th>dtime</th>\n",
       "      <th>djsj</th>\n",
       "      <th>xfcs</th>\n",
       "      <th>Recency_d</th>\n",
       "      <th>avg_je</th>\n",
       "    </tr>\n",
       "  </thead>\n",
       "  <tbody>\n",
       "    <tr>\n",
       "      <th>0</th>\n",
       "      <td>000186fa</td>\n",
       "      <td>4176.0</td>\n",
       "      <td>1</td>\n",
       "      <td>1.961644</td>\n",
       "      <td>1</td>\n",
       "      <td>98</td>\n",
       "      <td>348.000000</td>\n",
       "    </tr>\n",
       "    <tr>\n",
       "      <th>1</th>\n",
       "      <td>000234ad</td>\n",
       "      <td>398.0</td>\n",
       "      <td>1</td>\n",
       "      <td>8.794521</td>\n",
       "      <td>1</td>\n",
       "      <td>60</td>\n",
       "      <td>33.166667</td>\n",
       "    </tr>\n",
       "    <tr>\n",
       "      <th>2</th>\n",
       "      <td>000339f1</td>\n",
       "      <td>854.0</td>\n",
       "      <td>2</td>\n",
       "      <td>4.293151</td>\n",
       "      <td>2</td>\n",
       "      <td>15</td>\n",
       "      <td>71.166667</td>\n",
       "    </tr>\n",
       "    <tr>\n",
       "      <th>3</th>\n",
       "      <td>000539ab</td>\n",
       "      <td>236.0</td>\n",
       "      <td>1</td>\n",
       "      <td>1.490411</td>\n",
       "      <td>1</td>\n",
       "      <td>60</td>\n",
       "      <td>19.666667</td>\n",
       "    </tr>\n",
       "    <tr>\n",
       "      <th>4</th>\n",
       "      <td>00065bc9</td>\n",
       "      <td>2380.0</td>\n",
       "      <td>2</td>\n",
       "      <td>1.476712</td>\n",
       "      <td>2</td>\n",
       "      <td>73</td>\n",
       "      <td>198.333333</td>\n",
       "    </tr>\n",
       "  </tbody>\n",
       "</table>\n",
       "</div>"
      ],
      "text/plain": [
       "         kh      je  dtime      djsj  xfcs  Recency_d      avg_je\n",
       "0  000186fa  4176.0      1  1.961644     1         98  348.000000\n",
       "1  000234ad   398.0      1  8.794521     1         60   33.166667\n",
       "2  000339f1   854.0      2  4.293151     2         15   71.166667\n",
       "3  000539ab   236.0      1  1.490411     1         60   19.666667\n",
       "4  00065bc9  2380.0      2  1.476712     2         73  198.333333"
      ]
     },
     "execution_count": 7,
     "metadata": {},
     "output_type": "execute_result"
    }
   ],
   "source": [
    "# 最近一次消费（Recency_d、月）、消费频率（dtime，次/月）、消费金额（je, 元/年）\n",
    "data_now = pd.to_datetime('2018-01-01') # 自定义截止时间\n",
    "data['Recency_d'] = (data_now - data.Recency_d).dt.days  # 最近一次购买是几天前\n",
    "data['djsj'] = (data_now - data.djsj).dt.days/365        # 入会时间,按年计算\n",
    "data['avg_je'] = (data.je)/12                            # 平均消费金额\n",
    "data.head()"
   ]
  },
  {
   "cell_type": "code",
   "execution_count": 8,
   "metadata": {},
   "outputs": [
    {
     "name": "stdout",
     "output_type": "stream",
     "text": [
      "kh     000186fa     fffa7c0b\n",
      "je     2.0     501212.27\n",
      "dtime     1     179\n",
      "djsj     0.0     15.2\n",
      "xfcs     1     179\n",
      "Recency_d     0     364\n",
      "avg_je     0.16666666666666666     41767.68916666667\n"
     ]
    }
   ],
   "source": [
    "for name in data.columns:\n",
    "    print(name,\"   \", data[name].min(),\"   \", data[name].max())"
   ]
  },
  {
   "cell_type": "code",
   "execution_count": 9,
   "metadata": {},
   "outputs": [
    {
     "data": {
      "text/html": [
       "<div>\n",
       "<style scoped>\n",
       "    .dataframe tbody tr th:only-of-type {\n",
       "        vertical-align: middle;\n",
       "    }\n",
       "\n",
       "    .dataframe tbody tr th {\n",
       "        vertical-align: top;\n",
       "    }\n",
       "\n",
       "    .dataframe thead th {\n",
       "        text-align: right;\n",
       "    }\n",
       "</style>\n",
       "<table border=\"1\" class=\"dataframe\">\n",
       "  <thead>\n",
       "    <tr style=\"text-align: right;\">\n",
       "      <th></th>\n",
       "      <th>kh</th>\n",
       "      <th>je</th>\n",
       "      <th>dtime</th>\n",
       "      <th>djsj</th>\n",
       "      <th>xfcs</th>\n",
       "      <th>Recency_d</th>\n",
       "      <th>avg_je</th>\n",
       "    </tr>\n",
       "  </thead>\n",
       "  <tbody>\n",
       "    <tr>\n",
       "      <th>0</th>\n",
       "      <td>000186fa</td>\n",
       "      <td>4176.0</td>\n",
       "      <td>1</td>\n",
       "      <td>1.961644</td>\n",
       "      <td>1</td>\n",
       "      <td>98</td>\n",
       "      <td>348.000000</td>\n",
       "    </tr>\n",
       "    <tr>\n",
       "      <th>1</th>\n",
       "      <td>000234ad</td>\n",
       "      <td>398.0</td>\n",
       "      <td>1</td>\n",
       "      <td>8.794521</td>\n",
       "      <td>1</td>\n",
       "      <td>60</td>\n",
       "      <td>33.166667</td>\n",
       "    </tr>\n",
       "    <tr>\n",
       "      <th>2</th>\n",
       "      <td>000339f1</td>\n",
       "      <td>854.0</td>\n",
       "      <td>2</td>\n",
       "      <td>4.293151</td>\n",
       "      <td>2</td>\n",
       "      <td>15</td>\n",
       "      <td>71.166667</td>\n",
       "    </tr>\n",
       "    <tr>\n",
       "      <th>3</th>\n",
       "      <td>000539ab</td>\n",
       "      <td>236.0</td>\n",
       "      <td>1</td>\n",
       "      <td>1.490411</td>\n",
       "      <td>1</td>\n",
       "      <td>60</td>\n",
       "      <td>19.666667</td>\n",
       "    </tr>\n",
       "    <tr>\n",
       "      <th>4</th>\n",
       "      <td>00065bc9</td>\n",
       "      <td>2380.0</td>\n",
       "      <td>2</td>\n",
       "      <td>1.476712</td>\n",
       "      <td>2</td>\n",
       "      <td>73</td>\n",
       "      <td>198.333333</td>\n",
       "    </tr>\n",
       "  </tbody>\n",
       "</table>\n",
       "</div>"
      ],
      "text/plain": [
       "         kh      je  dtime      djsj  xfcs  Recency_d      avg_je\n",
       "0  000186fa  4176.0      1  1.961644     1         98  348.000000\n",
       "1  000234ad   398.0      1  8.794521     1         60   33.166667\n",
       "2  000339f1   854.0      2  4.293151     2         15   71.166667\n",
       "3  000539ab   236.0      1  1.490411     1         60   19.666667\n",
       "4  00065bc9  2380.0      2  1.476712     2         73  198.333333"
      ]
     },
     "execution_count": 9,
     "metadata": {},
     "output_type": "execute_result"
    }
   ],
   "source": [
    "data_new = data.drop(data[(data.je> 99999)].index)  # 将总金额大于9999的异常值进行去除\n",
    "data_new.reset_index(drop=True, inplace=True)   # 重设索引，并删除原来的索引值\n",
    "data_new.head()"
   ]
  },
  {
   "cell_type": "code",
   "execution_count": 10,
   "metadata": {},
   "outputs": [
    {
     "data": {
      "text/html": [
       "<div>\n",
       "<style scoped>\n",
       "    .dataframe tbody tr th:only-of-type {\n",
       "        vertical-align: middle;\n",
       "    }\n",
       "\n",
       "    .dataframe tbody tr th {\n",
       "        vertical-align: top;\n",
       "    }\n",
       "\n",
       "    .dataframe thead th {\n",
       "        text-align: right;\n",
       "    }\n",
       "</style>\n",
       "<table border=\"1\" class=\"dataframe\">\n",
       "  <thead>\n",
       "    <tr style=\"text-align: right;\">\n",
       "      <th></th>\n",
       "      <th>kh</th>\n",
       "      <th>消费总金额</th>\n",
       "      <th>消费频率</th>\n",
       "      <th>入会时长</th>\n",
       "      <th>消费次数</th>\n",
       "      <th>最近一次消费</th>\n",
       "      <th>平均消费金额</th>\n",
       "    </tr>\n",
       "  </thead>\n",
       "  <tbody>\n",
       "    <tr>\n",
       "      <th>0</th>\n",
       "      <td>000186fa</td>\n",
       "      <td>4176.0</td>\n",
       "      <td>1</td>\n",
       "      <td>1.961644</td>\n",
       "      <td>1</td>\n",
       "      <td>98</td>\n",
       "      <td>348.000000</td>\n",
       "    </tr>\n",
       "    <tr>\n",
       "      <th>1</th>\n",
       "      <td>000234ad</td>\n",
       "      <td>398.0</td>\n",
       "      <td>1</td>\n",
       "      <td>8.794521</td>\n",
       "      <td>1</td>\n",
       "      <td>60</td>\n",
       "      <td>33.166667</td>\n",
       "    </tr>\n",
       "    <tr>\n",
       "      <th>2</th>\n",
       "      <td>000339f1</td>\n",
       "      <td>854.0</td>\n",
       "      <td>2</td>\n",
       "      <td>4.293151</td>\n",
       "      <td>2</td>\n",
       "      <td>15</td>\n",
       "      <td>71.166667</td>\n",
       "    </tr>\n",
       "    <tr>\n",
       "      <th>3</th>\n",
       "      <td>000539ab</td>\n",
       "      <td>236.0</td>\n",
       "      <td>1</td>\n",
       "      <td>1.490411</td>\n",
       "      <td>1</td>\n",
       "      <td>60</td>\n",
       "      <td>19.666667</td>\n",
       "    </tr>\n",
       "    <tr>\n",
       "      <th>4</th>\n",
       "      <td>00065bc9</td>\n",
       "      <td>2380.0</td>\n",
       "      <td>2</td>\n",
       "      <td>1.476712</td>\n",
       "      <td>2</td>\n",
       "      <td>73</td>\n",
       "      <td>198.333333</td>\n",
       "    </tr>\n",
       "  </tbody>\n",
       "</table>\n",
       "</div>"
      ],
      "text/plain": [
       "         kh   消费总金额  消费频率      入会时长  消费次数  最近一次消费      平均消费金额\n",
       "0  000186fa  4176.0     1  1.961644     1      98  348.000000\n",
       "1  000234ad   398.0     1  8.794521     1      60   33.166667\n",
       "2  000339f1   854.0     2  4.293151     2      15   71.166667\n",
       "3  000539ab   236.0     1  1.490411     1      60   19.666667\n",
       "4  00065bc9  2380.0     2  1.476712     2      73  198.333333"
      ]
     },
     "execution_count": 10,
     "metadata": {},
     "output_type": "execute_result"
    }
   ],
   "source": [
    "data_new.rename(columns={'je':'消费总金额', 'dtime':'消费频率', 'djsj':'入会时长', 'xfcs':'消费次数', 'Recency_d':'最近一次消费', 'avg_je':'平均消费金额'}, inplace = True)\n",
    "data_new.head()"
   ]
  },
  {
   "cell_type": "code",
   "execution_count": 11,
   "metadata": {},
   "outputs": [
    {
     "data": {
      "text/html": [
       "<div>\n",
       "<style scoped>\n",
       "    .dataframe tbody tr th:only-of-type {\n",
       "        vertical-align: middle;\n",
       "    }\n",
       "\n",
       "    .dataframe tbody tr th {\n",
       "        vertical-align: top;\n",
       "    }\n",
       "\n",
       "    .dataframe thead th {\n",
       "        text-align: right;\n",
       "    }\n",
       "</style>\n",
       "<table border=\"1\" class=\"dataframe\">\n",
       "  <thead>\n",
       "    <tr style=\"text-align: right;\">\n",
       "      <th></th>\n",
       "      <th>消费总金额</th>\n",
       "      <th>消费频率</th>\n",
       "      <th>最近一次消费</th>\n",
       "    </tr>\n",
       "  </thead>\n",
       "  <tbody>\n",
       "    <tr>\n",
       "      <th>0</th>\n",
       "      <td>4176.0</td>\n",
       "      <td>1</td>\n",
       "      <td>98</td>\n",
       "    </tr>\n",
       "    <tr>\n",
       "      <th>1</th>\n",
       "      <td>398.0</td>\n",
       "      <td>1</td>\n",
       "      <td>60</td>\n",
       "    </tr>\n",
       "    <tr>\n",
       "      <th>2</th>\n",
       "      <td>854.0</td>\n",
       "      <td>2</td>\n",
       "      <td>15</td>\n",
       "    </tr>\n",
       "    <tr>\n",
       "      <th>3</th>\n",
       "      <td>236.0</td>\n",
       "      <td>1</td>\n",
       "      <td>60</td>\n",
       "    </tr>\n",
       "    <tr>\n",
       "      <th>4</th>\n",
       "      <td>2380.0</td>\n",
       "      <td>2</td>\n",
       "      <td>73</td>\n",
       "    </tr>\n",
       "  </tbody>\n",
       "</table>\n",
       "</div>"
      ],
      "text/plain": [
       "    消费总金额  消费频率  最近一次消费\n",
       "0  4176.0     1      98\n",
       "1   398.0     1      60\n",
       "2   854.0     2      15\n",
       "3   236.0     1      60\n",
       "4  2380.0     2      73"
      ]
     },
     "execution_count": 11,
     "metadata": {},
     "output_type": "execute_result"
    }
   ],
   "source": [
    "# 抽取出代表RFM的特征\n",
    "train_data = data_new.iloc[:, [1,2,5]] # ['Monetary', 'Recency_d', 'Frequency']\n",
    "#train_data = (train_data-train_data.min())/(train_data.max()-train_data.min()) # 归一化\n",
    "train_data.head()"
   ]
  },
  {
   "cell_type": "code",
   "execution_count": 12,
   "metadata": {},
   "outputs": [
    {
     "name": "stderr",
     "output_type": "stream",
     "text": [
      "d:\\python3.7.5\\lib\\site-packages\\ipykernel_launcher.py:7: SettingWithCopyWarning: \n",
      "A value is trying to be set on a copy of a slice from a DataFrame\n",
      "\n",
      "See the caveats in the documentation: http://pandas.pydata.org/pandas-docs/stable/user_guide/indexing.html#returning-a-view-versus-a-copy\n",
      "  import sys\n"
     ]
    }
   ],
   "source": [
    "# 评分\n",
    "for name in train_data.columns:\n",
    "    if name==\"最近一次消费\":\n",
    "        ascending = False\n",
    "    else:\n",
    "        ascending = True\n",
    "    train_data.sort_values(by=[name],inplace=True, ascending=ascending)\n",
    "    train_data.reset_index(drop=True, inplace=True)\n",
    "    n = train_data.shape[0]\n",
    "    for i in range(1, 6):\n",
    "        b = 0.2*n*(i-1)\n",
    "        e = 0.2*n*i\n",
    "        train_data.loc[b:e, name] = i"
   ]
  },
  {
   "cell_type": "code",
   "execution_count": 15,
   "metadata": {},
   "outputs": [
    {
     "name": "stdout",
     "output_type": "stream",
     "text": [
      "消费总金额     1.0     5.0\n",
      "消费频率     1     5\n",
      "最近一次消费     1     5\n"
     ]
    },
    {
     "data": {
      "text/html": [
       "<div>\n",
       "<style scoped>\n",
       "    .dataframe tbody tr th:only-of-type {\n",
       "        vertical-align: middle;\n",
       "    }\n",
       "\n",
       "    .dataframe tbody tr th {\n",
       "        vertical-align: top;\n",
       "    }\n",
       "\n",
       "    .dataframe thead th {\n",
       "        text-align: right;\n",
       "    }\n",
       "</style>\n",
       "<table border=\"1\" class=\"dataframe\">\n",
       "  <thead>\n",
       "    <tr style=\"text-align: right;\">\n",
       "      <th></th>\n",
       "      <th>消费总金额</th>\n",
       "      <th>消费频率</th>\n",
       "      <th>最近一次消费</th>\n",
       "    </tr>\n",
       "  </thead>\n",
       "  <tbody>\n",
       "    <tr>\n",
       "      <th>0</th>\n",
       "      <td>3.0</td>\n",
       "      <td>4</td>\n",
       "      <td>1</td>\n",
       "    </tr>\n",
       "    <tr>\n",
       "      <th>1</th>\n",
       "      <td>1.0</td>\n",
       "      <td>2</td>\n",
       "      <td>1</td>\n",
       "    </tr>\n",
       "    <tr>\n",
       "      <th>2</th>\n",
       "      <td>3.0</td>\n",
       "      <td>2</td>\n",
       "      <td>1</td>\n",
       "    </tr>\n",
       "    <tr>\n",
       "      <th>3</th>\n",
       "      <td>2.0</td>\n",
       "      <td>1</td>\n",
       "      <td>1</td>\n",
       "    </tr>\n",
       "    <tr>\n",
       "      <th>4</th>\n",
       "      <td>2.0</td>\n",
       "      <td>3</td>\n",
       "      <td>1</td>\n",
       "    </tr>\n",
       "  </tbody>\n",
       "</table>\n",
       "</div>"
      ],
      "text/plain": [
       "   消费总金额  消费频率  最近一次消费\n",
       "0    3.0     4       1\n",
       "1    1.0     2       1\n",
       "2    3.0     2       1\n",
       "3    2.0     1       1\n",
       "4    2.0     3       1"
      ]
     },
     "execution_count": 15,
     "metadata": {},
     "output_type": "execute_result"
    }
   ],
   "source": [
    "for name in train_data.columns:\n",
    "    print(name,\"   \", train_data[name].min(),\"   \", train_data[name].max())\n",
    "train_data.head()"
   ]
  },
  {
   "cell_type": "code",
   "execution_count": 16,
   "metadata": {
    "scrolled": true
   },
   "outputs": [
    {
     "name": "stdout",
     "output_type": "stream",
     "text": [
      "<class 'pandas.core.frame.DataFrame'>\n",
      "RangeIndex: 20670 entries, 0 to 20669\n",
      "Data columns (total 3 columns):\n",
      "消费总金额     20670 non-null float64\n",
      "消费频率      20670 non-null int64\n",
      "最近一次消费    20670 non-null int64\n",
      "dtypes: float64(1), int64(2)\n",
      "memory usage: 484.6 KB\n"
     ]
    }
   ],
   "source": [
    "train_data.info()"
   ]
  },
  {
   "cell_type": "markdown",
   "metadata": {},
   "source": [
    "### 利用k-means进行聚类分析，并绘制雷达图"
   ]
  },
  {
   "cell_type": "code",
   "execution_count": 17,
   "metadata": {},
   "outputs": [],
   "source": [
    "from sklearn.cluster import KMeans "
   ]
  },
  {
   "cell_type": "code",
   "execution_count": 18,
   "metadata": {},
   "outputs": [
    {
     "name": "stdout",
     "output_type": "stream",
     "text": [
      "[[3.43554377 1.40636605 3.81909814]\n",
      " [4.11744792 4.07239583 2.21145833]\n",
      " [1.31573957 2.72692794 1.46807838]\n",
      " [4.74667134 4.85984583 4.63875263]\n",
      " [1.42582553 1.57417447 3.79053721]\n",
      " [2.95700745 1.2718348  1.46750169]\n",
      " [3.75026511 3.73541888 4.50053022]\n",
      " [1.60932945 3.51166181 3.84888241]]\n",
      "[1 2 5 ... 4 6 3]\n",
      "(8, 3)\n"
     ]
    }
   ],
   "source": [
    "#需要进行的聚类类别数\n",
    "k = 8\n",
    "kmodel = KMeans(n_clusters = k) \n",
    "#训练模型\n",
    "kmodel.fit(train_data) \n",
    "\n",
    "#查看聚类中心\n",
    "print(kmodel.cluster_centers_) \n",
    "#查看各样本对应的类别\n",
    "print(kmodel.labels_ )\n",
    "print(kmodel.cluster_centers_.shape)"
   ]
  },
  {
   "cell_type": "code",
   "execution_count": 19,
   "metadata": {},
   "outputs": [
    {
     "data": {
      "image/png": "[encoded data removed]",
      "text/plain": [
       "<Figure size 720x576 with 1 Axes>"
      ]
     },
     "metadata": {
      "needs_background": "light"
     },
     "output_type": "display_data"
    }
   ],
   "source": [
    "# 简单打印结果\n",
    "r1 = pd.Series(kmodel.labels_).value_counts() #统计各个类别的数目\n",
    "r2 = pd.DataFrame(kmodel.cluster_centers_) #找出聚类中心\n",
    "\n",
    "# 所有簇中心坐标值中最大值和最小值\n",
    "max = r2.values.max()\n",
    "min = r2.values.min()\n",
    "r = pd.concat([r2, r1], axis = 1) #横向连接（0是纵向），得到聚类中心对应的类别下的数目\n",
    "r.columns = list(train_data.columns) + [u'类别数目'] #重命名表头\n",
    " \n",
    "# 绘图\n",
    "fig=plt.figure(figsize=(10, 8))\n",
    "ax = fig.add_subplot(111, polar=True)\n",
    "center_num = r.values\n",
    "feature = list(train_data.columns)\n",
    "#feature = ['消费总金额', '消费频率', '入会时长', '消费次数', '最近一次消费', '平均消费金额']\n",
    "N =len(feature)\n",
    "for i, v in enumerate(center_num):\n",
    "    # 设置雷达图的角度，用于平分切开一个圆面\n",
    "    angles=np.linspace(0, 2*np.pi, N, endpoint=False)\n",
    "    # 为了使雷达图一圈封闭起来，需要下面的步骤\n",
    "    center = np.concatenate((v[:-1],[v[0]]))\n",
    "    angles=np.concatenate((angles,[angles[0]]))\n",
    "    # 绘制折线图\n",
    "    ax.plot(angles, center, 'o-', linewidth=2, label = \"第%d簇人群,%d人\"% (i+1,v[-1]))\n",
    "    # 填充颜色\n",
    "    ax.fill(angles, center, alpha=0.25)\n",
    "    # 添加每个特征的标签\n",
    "    ax.set_thetagrids(angles * 180/np.pi, feature, fontsize=15)\n",
    "    # 设置雷达图的范围\n",
    "    ax.set_ylim(min-0.1, max+0.1)\n",
    "    # 添加标题\n",
    "    plt.title('客户群特征分析图', fontsize=20)\n",
    "    # 添加网格线\n",
    "    ax.grid(True)\n",
    "    # 设置图例\n",
    "    plt.legend(loc='upper right', bbox_to_anchor=(1.3,1.0),ncol=1,fancybox=True,shadow=True)\n",
    "    \n",
    "# 显示图形\n",
    "#plt.savefig(\"%s类.png\"%k)\n",
    "plt.show()\n"
   ]
  },
  {
   "cell_type": "code",
   "execution_count": 20,
   "metadata": {},
   "outputs": [
    {
     "name": "stdout",
     "output_type": "stream",
     "text": [
      "重要价值客户    0.138075\n",
      "重要唤回客户    0.091243\n",
      "重要深耕客户    0.185776\n",
      "重要挽留客户    0.099565\n",
      "深耕客户      0.091195\n",
      "新客户       0.098162\n",
      "一般维持客户    0.142912\n",
      "流失客户      0.153072\n",
      "Name: 类别数目, dtype: float64\n"
     ]
    }
   ],
   "source": [
    "r['分数'] = r['消费总金额'] + r['消费频率'] + r['最近一次消费']\n",
    "r.sort_values('分数', ascending=False, inplace=True)\n",
    "tmp = r['类别数目']\n",
    "tmp3 = tmp/r['类别数目'].sum()\n",
    "ind = ['重要价值客户', '重要唤回客户', '重要深耕客户', '重要挽留客户', '深耕客户', '新客户', '一般维持客户', '流失客户']\n",
    "tmp3.index = ind\n",
    "print(tmp3)"
   ]
  },
  {
   "cell_type": "code",
   "execution_count": 21,
   "metadata": {},
   "outputs": [
    {
     "data": {
      "image/png": "[encoded data removed]",
      "text/plain": [
       "<Figure size 432x288 with 1 Axes>"
      ]
     },
     "metadata": {
      "needs_background": "light"
     },
     "output_type": "display_data"
    }
   ],
   "source": [
    "ax = tmp3.plot.barh(stacked=True,colormap = 'Blues_r') \n",
    "ax.figsize=(35, 35)\n",
    "ax.set_xlabel('比例')  # 设置x轴标签\n",
    "ax.set_ylabel('客户类型') # 设置y轴标签\n",
    "fig = ax.get_figure()  # 用于保存图片\n",
    "#fig.savefig('客户价值分类图.png',bbox_inches = 'tight')  # 保存为png格式"
   ]
  },
  {
   "cell_type": "code",
   "execution_count": null,
   "metadata": {},
   "outputs": [],
   "source": []
  },
  {
   "cell_type": "code",
   "execution_count": null,
   "metadata": {},
   "outputs": [],
   "source": []
  }
 ],
 "metadata": {
  "kernelspec": {
   "display_name": "Python 3",
   "language": "python",
   "name": "python3"
  },
  "language_info": {
   "codemirror_mode": {
    "name": "ipython",
    "version": 3
   },
   "file_extension": ".py",
   "mimetype": "text/x-python",
   "name": "python",
   "nbconvert_exporter": "python",
   "pygments_lexer": "ipython3",
   "version": "3.7.5"
  }
 },
 "nbformat": 4,
 "nbformat_minor": 2
}
